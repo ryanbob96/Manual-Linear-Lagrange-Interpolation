{
 "cells": [
  {
   "cell_type": "markdown",
   "metadata": {},
   "source": [
    "---"
   ]
  },
  {
   "cell_type": "markdown",
   "metadata": {},
   "source": [
    "---"
   ]
  },
  {
   "cell_type": "markdown",
   "metadata": {
    "deletable": false,
    "editable": false,
    "nbgrader": {
     "cell_type": "markdown",
     "checksum": "40905950e1d95fbf6072eba4021bb9d6",
     "grade": false,
     "grade_id": "cell-34048262bd9d1748",
     "locked": true,
     "schema_version": 3,
     "solution": false
    }
   },
   "source": [
    "# <center> NRE1 2021 - Assignment 1 </center>\n",
    "___\n",
    "## <center> Regression and interpolation </center>"
   ]
  },
  {
   "cell_type": "markdown",
   "metadata": {
    "deletable": false,
    "editable": false,
    "nbgrader": {
     "cell_type": "markdown",
     "checksum": "2b696d4ec57f41f34cfc789257bb2fc9",
     "grade": false,
     "grade_id": "cell-169cdd1e61b2c4a0",
     "locked": true,
     "schema_version": 3,
     "solution": false
    }
   },
   "source": [
    "This notebook is the a graded assignment. It counts **20% to your final mark** in the exercise with **20 points** to be achieved in total! It covers the topics of regression and interpolation presented in the lecture. Read all the tasks and the provided help carefully.\n",
    "\n",
    "\n",
    "Before you submit this assignment, make sure everything runs as you expect it to.  \n",
    "* **restart the kernel** (in the menubar, select Kernel -> Restart)\n",
    "* **run all cells** (in the menubar, select Cell -> Run All)\n",
    "\n",
    "Make sure to fill in any place that says \n",
    "```python\n",
    "# YOUR CODE HERE\n",
    "```\n",
    "or\n",
    "\n",
    "    YOUR ANSWER HERE\n",
    "\n",
    "Delete lines that read \n",
    "\n",
    "```python\n",
    "raise NotImplementedError()\n",
    "```\n",
    "when adding your solution.\n",
    "\n",
    "<font color=#ba4a00 >\n",
    "<br>\n",
    "    \n",
    "Please upload your completed notebook to Moodle **strictly following** the naming convention:\n",
    "\n",
    "* ``assignment1_XXXXXX.ipynb`` where XXXXXX corresponds to your student ID, or: \n",
    "* ``assignment1_XXXXXX_YYYYYY.ipynb`` if you submit together (both student ID's)\n",
    "\n",
    "</font>\n",
    "\n",
    "\n",
    "<br>\n",
    "<font color= #a93226>\n",
    "<br>\n",
    "<center> Remember: Copying code from someone else and pretending it is your own is serious scientific fraud!\n",
    "</center>\n",
    "\n",
    "<br><center> This assignment is due on: **Friday, 28th of May** 2021. Good luck!\n",
    "</center>\n",
    "<br>\n",
    "</font>\n",
    "\n",
    "Please fill in your name (and of your fellow student, if you submit together), and according matriculation number below (next cell). If you are more than one student, separate by a comma **,** ."
   ]
  },
  {
   "cell_type": "code",
   "execution_count": 1,
   "metadata": {},
   "outputs": [],
   "source": [
    "NAME = \"Ryan Bobby Andika\"\n",
    "MATNUM = \"416609\""
   ]
  },
  {
   "cell_type": "code",
   "execution_count": 2,
   "metadata": {},
   "outputs": [],
   "source": [
    "# Here the usual imports:\n",
    "import numpy as np\n",
    "import matplotlib.pyplot as plt\n",
    "%matplotlib inline"
   ]
  },
  {
   "cell_type": "markdown",
   "metadata": {
    "deletable": false,
    "editable": false,
    "nbgrader": {
     "cell_type": "markdown",
     "checksum": "b406afe118d47c15064fadff4ec23e8b",
     "grade": false,
     "grade_id": "cell-e8710d68e866b5ef",
     "locked": true,
     "schema_version": 3,
     "solution": false,
     "task": false
    }
   },
   "source": [
    "## Task 1: Linear regression\n",
    "\n",
    "### Part A: Program control with loops\n",
    "\n",
    "Loops are an essential part to control the flow of computer programs. They are virtually essential to most programs and so common, that we will spend a little bit of extra time on them to make sure you understand the concept and the implementation in Python.\n",
    "\n",
    "In this part, we will use loops to start solving a problem that we discussed in the lecture: linear regression with least-square curve fitting methods.\n",
    "\n",
    "We consider here the simple case of obtaining the best fit line to a set of points. A line can be described in the form:\n",
    "\n",
    "$$y = a_0 + a_1 x$$\n",
    "\n",
    "The task is to find suitble values for parameters $a_0$ and $a_1$ for the line.\n",
    "\n",
    "\n",
    "We obtain the normal equations to fit a line with linear regression as shown in the lecture:\n",
    "\n",
    "$$n a_0 + a_1 \\sum_{i=1}^n x_i = \\sum_{i=1}^n y_i$$\n",
    "\n",
    "$$ a_0 \\sum_{i=1}^n x_i + a_i \\sum_{i=1}^n x_i^2 = \\sum_{i=1}^n x_i y_i$$\n",
    "\n",
    "As you can see, we have to calculate a lot of sums to solve these equations. The basic possibility to do this in a computer program is using a `for`-loop.\n",
    "\n",
    "You can think about it in the following way: $\\sum$ specifies an operation where we repeateadly add values to the previous results:\n",
    "\n",
    "$$\\sum_{i=1}^n x_i = x_1 + x_2 + \\dots + x_n$$\n",
    "\n",
    "If we want to create a program to perform this operation, we need to define a variable first to store the results and initialise it to 0, so for example:\n",
    "\n",
    "`sum_x = 0`\n",
    "\n",
    "In the next step, we iterate over all entries in the list, using a `for`-loop, and add the value of the list entry to this variable (recall that, when iterating through a list with a `for`-loop, the next element is extracted with each loop iteration).\n",
    "\n",
    "<br>\n",
    "<font color= #21618c>\n",
    "    \n",
    "### **Your task (3 pts)**: \n",
    "**Complete the function below to find the optimal values for $a_0$ and $a_1$ in a least square sense. Use loops to perform the summation operations (no `numpy` required!) from the equation above. Use the pre-defined variables to store the results. In order to solve the system of algebraic equations (SAE) to obtain $a_0$ and $a_1$ use the `np.linalg.solve()` function.**\n",
    "<font>\n",
    "<br>\n",
    "\n",
    "<font color=#ba4a00 >\n",
    "    \n",
    "*Hint*: Creating the mixed sum ($\\sum x_i y_i$) is a bit tricky. The best way is to write a `for`-loop to iterate over a range of the entries in the lists, and then extract the elements by index:\n",
    "\n",
    "\n",
    "```python\n",
    "for i in range(len(x)):\n",
    "    ...\n",
    "```\n",
    "<font>\n"
   ]
  },
  {
   "cell_type": "code",
   "execution_count": 3,
   "metadata": {
    "deletable": false,
    "nbgrader": {
     "cell_type": "code",
     "checksum": "eaa9253e51f5e47bae59168528916adf",
     "grade": false,
     "grade_id": "cell-a57fc295893bf5e7",
     "locked": false,
     "schema_version": 3,
     "solution": true
    }
   },
   "outputs": [],
   "source": [
    "def lin_regression_loops(x, y):\n",
    "    \"\"\"Perform linear regression with basic python loops    \n",
    "    \n",
    "    **Arguments**:\n",
    "        x : python list or numpy-arary with x-values\n",
    "        y : python list or numpy-array with y-values\n",
    "    \n",
    "    **Returns**:\n",
    "        (a0, a1) : tuple of two numbers\n",
    "    \"\"\"  \n",
    "    # Variables to store results of summation:\n",
    "    sum_x_i = 0\n",
    "    sum_y_i = 0\n",
    "    sum_x_i_squared = 0\n",
    "    sum_x_i_y_i = 0\n",
    "    \n",
    "    # YOUR CODE HERE\n",
    "    xy = [x[i]*y[i] for i in range(len(x))]\n",
    "    \n",
    "    for i in range(len(x)):\n",
    "        sum_x_i += x[i]\n",
    "        sum_y_i += y[i]\n",
    "        sum_x_i_squared += ((x[i])**2)\n",
    "        sum_x_i_y_i += xy[i]\n",
    "    \n",
    "    aa = np.array([[len(x), sum_x_i],[sum_x_i, sum_x_i_squared]])\n",
    "    ab = np.array([sum_y_i, sum_x_i_y_i])\n",
    "    \n",
    "    return np.linalg.solve(aa,ab) #get the a0,a1"
   ]
  },
  {
   "cell_type": "code",
   "execution_count": 4,
   "metadata": {
    "deletable": false,
    "editable": false,
    "nbgrader": {
     "cell_type": "code",
     "checksum": "204e749444d2cd84390974a0b5fcbeb3",
     "grade": true,
     "grade_id": "cell-78d176ad1e0e1695",
     "locked": true,
     "points": 3,
     "schema_version": 3,
     "solution": false
    }
   },
   "outputs": [],
   "source": [
    "# Cell used for autograding. DO NOT EDIT!"
   ]
  },
  {
   "cell_type": "markdown",
   "metadata": {
    "deletable": false,
    "editable": false,
    "nbgrader": {
     "cell_type": "markdown",
     "checksum": "eea036eac9ec92c6a63ca3cca82f0d7d",
     "grade": false,
     "grade_id": "cell-ef37f61f57cde1bd",
     "locked": true,
     "schema_version": 3,
     "solution": false
    }
   },
   "source": [
    "### Part B: Linear regression with vectorised functions\n",
    "\n",
    "You learned about the use of efficient numerical methods in chapter 4 on the `numpy` module. One of the most important aspects of the `numpy` module is the use of vectors and functions that operate directly on these vectors, the so-called \"vectorised functions\".\n",
    "\n",
    "One main point that you should always have in mind is, that it is better to use vectorised functions instead of loops, whenever this is possible. The calculations will be more efficient.\n",
    "\n",
    "<br>\n",
    "<font color= #21618c>\n",
    "    \n",
    "### **Your task** (3 pts): \n",
    "**Complete the function below to perform the summation operations with vectorised functions instead of the loops and solve the system of linear equations:**\n",
    "<font>"
   ]
  },
  {
   "cell_type": "code",
   "execution_count": 5,
   "metadata": {
    "deletable": false,
    "nbgrader": {
     "cell_type": "code",
     "checksum": "930185c44b4793d2aefe45c23f19a8aa",
     "grade": false,
     "grade_id": "cell-8b0666a7fe844226",
     "locked": false,
     "schema_version": 3,
     "solution": true
    }
   },
   "outputs": [],
   "source": [
    "def lin_regression_vectorised(x, y):\n",
    "    \"\"\"Perform linear regression with vectorised numpy functions\n",
    "    \n",
    "    **Arguments**:\n",
    "        x : numpy-array with x-values\n",
    "        y : numpy-array with y-values\n",
    "    \n",
    "    **Returns**:\n",
    "        (a0, a1) : tuple of two numbers\n",
    "    \"\"\"    \n",
    "    # YOUR CODE HERE\n",
    "    aa = np.array([[len(x), np.sum(x)],[np.sum(x), np.sum(x**2)]])\n",
    "    ab = np.array([np.sum(y), np.sum(x*y)])\n",
    "    \n",
    "    return np.linalg.solve(aa,ab) #get the a0,a1"
   ]
  },
  {
   "cell_type": "code",
   "execution_count": 6,
   "metadata": {
    "deletable": false,
    "editable": false,
    "nbgrader": {
     "cell_type": "code",
     "checksum": "945fdb3e087bdea46947a7a91f6ec964",
     "grade": true,
     "grade_id": "cell-563d16bce951f6b7",
     "locked": true,
     "points": 3,
     "schema_version": 3,
     "solution": false
    }
   },
   "outputs": [],
   "source": [
    "# Cell used for autograding. DO NOT EDIT!"
   ]
  },
  {
   "cell_type": "markdown",
   "metadata": {
    "deletable": false,
    "editable": false,
    "nbgrader": {
     "cell_type": "markdown",
     "checksum": "7532daa4155156a8fe3265743d0508e6",
     "grade": false,
     "grade_id": "cell-9bfc3b7761d4d3ec",
     "locked": true,
     "schema_version": 3,
     "solution": false
    }
   },
   "source": [
    "As a little test for Part A and B, use the data in the following two arrays to test your functions:"
   ]
  },
  {
   "cell_type": "code",
   "execution_count": 7,
   "metadata": {},
   "outputs": [
    {
     "name": "stdout",
     "output_type": "stream",
     "text": [
      "[0.01285714 0.85857143]\n",
      "[0.01285714 0.85857143]\n"
     ]
    }
   ],
   "source": [
    "x = np.array([1., 2., 3., 4., 5., 6., 7.])\n",
    "y = np.array([0.42, 2.32, 2.12, 4.31, 3.45, 5.92, 5.59])\n",
    "\n",
    "print(lin_regression_loops(x, y))\n",
    "print(lin_regression_vectorised(x, y))"
   ]
  },
  {
   "cell_type": "markdown",
   "metadata": {
    "deletable": false,
    "editable": false,
    "nbgrader": {
     "cell_type": "markdown",
     "checksum": "d371c7fdf723a96d22f1bdf8c303f0a0",
     "grade": false,
     "grade_id": "cell-59377a3c2136c806",
     "locked": true,
     "schema_version": 3,
     "solution": false
    }
   },
   "source": [
    "If you compare the code of the vectorised function with the implementation with loops you can see another advantage of using vectorised functions: they usually provide a clearer and more easy to read implementation. Basically, it is often possible to write equations in code almost as you would write them down on paper. We will see more of this behaviour in the future."
   ]
  },
  {
   "cell_type": "markdown",
   "metadata": {
    "deletable": false,
    "editable": false,
    "nbgrader": {
     "cell_type": "markdown",
     "checksum": "ea5e71e04bc447797aa91bc9764d93f6",
     "grade": false,
     "grade_id": "cell-d1af5072779b4998",
     "locked": true,
     "schema_version": 3,
     "solution": false
    }
   },
   "source": [
    "### Part C: Check results with a plot\n",
    "\n",
    "It is also a good idea to check you results with a plot using `matplotlib`. \n",
    "\n",
    "<font color= #21618c>\n",
    "    \n",
    "### Your task (1 pt):\n",
    "**Create a figure with two subplots  both containing the data used aboved (`x` and `y`) and plot the regression line calculated with the loop function in one, and the one calculated with the vectorized function in the other.**\n",
    "<font>\n",
    "<br>\n",
    "\n",
    "<font color=#ba4a00 >\n",
    "\n",
    "Hint: Obviously both subplots should look exactly the same if you implemented everything correctly. Remember title and axes labels!\n",
    "<font>"
   ]
  },
  {
   "cell_type": "code",
   "execution_count": 8,
   "metadata": {
    "deletable": false,
    "nbgrader": {
     "cell_type": "code",
     "checksum": "a9efc37932358b85d9df1ba15fdd8699",
     "grade": true,
     "grade_id": "cell-89709f83b016ca60",
     "locked": false,
     "points": 1,
     "schema_version": 3,
     "solution": true
    }
   },
   "outputs": [
    {
     "data": {
      "text/plain": [
       "<matplotlib.legend.Legend at 0x2203d140eb0>"
      ]
     },
     "execution_count": 8,
     "metadata": {},
     "output_type": "execute_result"
    },
    {
     "data": {
      "image/png": "[encoded data removed]",
      "text/plain": [
       "<Figure size 720x360 with 2 Axes>"
      ]
     },
     "metadata": {
      "needs_background": "light"
     },
     "output_type": "display_data"
    }
   ],
   "source": [
    "# YOUR CODE HERE\n",
    "fig, ax = plt.subplots(1,2, figsize = (10,5))\n",
    "\n",
    "ax[0].scatter(x,y,c='black',label ='Data Points')\n",
    "ax[0].plot(x,lin_regression_loops(x,y)[0] + x*lin_regression_loops(x,y)[1],\"--k\",c='blue',label ='Regression')\n",
    "ax[0].set_xlabel('x')\n",
    "ax[0].set_ylabel('y')\n",
    "ax[0].set_title('Linear Regression with for Loops')\n",
    "ax[0].legend()\n",
    "\n",
    "ax[1].scatter(x,y,c='black',label ='Data Points')\n",
    "ax[1].plot(x,lin_regression_vectorised(x,y)[0] + x*lin_regression_vectorised(x,y)[1],\"--k\",c='green',label ='Regression')\n",
    "ax[1].set_xlabel('x')\n",
    "ax[1].set_ylabel('y')\n",
    "ax[1].set_title('Linear Regression with Numpy (Vectorised)')\n",
    "ax[1].legend()"
   ]
  },
  {
   "cell_type": "markdown",
   "metadata": {
    "deletable": false,
    "editable": false,
    "nbgrader": {
     "cell_type": "markdown",
     "checksum": "bfe33e6902ac2c62cc4e06b43e5e5e65",
     "grade": false,
     "grade_id": "cell-011bb25567efae44",
     "locked": true,
     "schema_version": 3,
     "solution": false
    }
   },
   "source": [
    "### Part D: Comparing execution time\n",
    "\n",
    "We stated above that vectorised functions are more efficent than loops and that you should use them when you can. However, we didn't provide a proof for this statement, yet. So in this task, you will use the `%%timeit` function to compare the execution time of the two functions and to test this claim.\n",
    "\n",
    "Recall: The `%%timeit` function is a so-called \"magic function\". These functions are extensions to basic Python functions which are only available in IPython and they usually perform operations for one code cell. To call the `%%timeit` function, you write it in the top of a code cell and then add the lines of code for which you want to check the execution time. These lines are then executed a couple of times to obtain a good approximation.\n",
    "\n",
    "Here is an example to test the execution time of a function:"
   ]
  },
  {
   "cell_type": "code",
   "execution_count": 9,
   "metadata": {},
   "outputs": [
    {
     "name": "stdout",
     "output_type": "stream",
     "text": [
      "37.7 µs ± 5.24 µs per loop (mean ± std. dev. of 7 runs, 10000 loops each)\n"
     ]
    }
   ],
   "source": [
    "%%timeit \n",
    "# calculate the sine for a number of values:\n",
    "x_vals = np.linspace(0,2*np.pi,1000)\n",
    "np.sin(x_vals)"
   ]
  },
  {
   "cell_type": "markdown",
   "metadata": {
    "deletable": false,
    "editable": false,
    "nbgrader": {
     "cell_type": "markdown",
     "checksum": "b2a60a6edb5f9186d578064d5f81b4f3",
     "grade": false,
     "grade_id": "cell-272f000d8cc4766a",
     "locked": true,
     "schema_version": 3,
     "solution": false
    }
   },
   "source": [
    "As you can see from the output, the lines of code are executed a number of times to obtain a reasonable measure of execution speed, which is in the order of 10-30 micro-seconds.\n",
    "\n",
    "<font color= #21618c>\n",
    "    \n",
    "### **Your task (1 pt)**: \n",
    "**Use the `%timeit` command with your code to test the execution time of the linear regression implementation with loops and with vectorised functions (use the `x` and `y` arrays as input as above):**\n",
    "<font>"
   ]
  },
  {
   "cell_type": "code",
   "execution_count": 10,
   "metadata": {
    "deletable": false,
    "nbgrader": {
     "cell_type": "code",
     "checksum": "8775f946cefa5ee980350a0afaaf49cc",
     "grade": true,
     "grade_id": "cell-770ff882528abbc2",
     "locked": false,
     "points": 1,
     "schema_version": 3,
     "solution": true
    }
   },
   "outputs": [
    {
     "name": "stdout",
     "output_type": "stream",
     "text": [
      "30.8 µs ± 924 ns per loop (mean ± std. dev. of 7 runs, 10000 loops each)\n"
     ]
    }
   ],
   "source": [
    "%%timeit\n",
    "# YOUR CODE HERE\n",
    "lin_regression_vectorised(x,y)"
   ]
  },
  {
   "cell_type": "code",
   "execution_count": 11,
   "metadata": {},
   "outputs": [
    {
     "name": "stdout",
     "output_type": "stream",
     "text": [
      "23.5 µs ± 3.43 µs per loop (mean ± std. dev. of 7 runs, 10000 loops each)\n"
     ]
    }
   ],
   "source": [
    "%%timeit\n",
    "# YOUR CODE HERE\n",
    "lin_regression_loops(x,y)"
   ]
  },
  {
   "cell_type": "markdown",
   "metadata": {
    "deletable": false,
    "editable": false,
    "nbgrader": {
     "cell_type": "markdown",
     "checksum": "5ea6f05b0d647891be9b7d51076649a0",
     "grade": false,
     "grade_id": "cell-6feacec83deab55c",
     "locked": true,
     "schema_version": 3,
     "solution": false
    }
   },
   "source": [
    "What did you observe? Which execution is faster? \n",
    "\n",
    "<font color= #21618c>\n",
    "    \n",
    "### **Your task (1 pt)**: \n",
    "**Describe your results in the following text cell:**"
   ]
  },
  {
   "cell_type": "markdown",
   "metadata": {
    "deletable": false,
    "nbgrader": {
     "cell_type": "markdown",
     "checksum": "25d62fc6711a6610b5ed0c62ab0c2f05",
     "grade": true,
     "grade_id": "cell-c287ee8bcecfcca8",
     "locked": false,
     "points": 1,
     "schema_version": 3,
     "solution": true
    }
   },
   "source": [
    "YOUR ANSWER HERE\n",
    "\n",
    "    lin_regression_loops performed much faster than the lin_regression_vectorised."
   ]
  },
  {
   "cell_type": "markdown",
   "metadata": {
    "deletable": false,
    "editable": false,
    "nbgrader": {
     "cell_type": "markdown",
     "checksum": "101ca895a441e1a8dbdf751e5a8447ea",
     "grade": false,
     "grade_id": "cell-e23169227f8f36a5",
     "locked": true,
     "schema_version": 3,
     "solution": false
    }
   },
   "source": [
    "You may have realised that the results are a bit unexpected. The reason is that calling the vectorised functions requires a small amount of additional time. This means that the functions are mainly efficient for large arrays.\n",
    "\n",
    "To test the execution time for larger vectors, we will first generate some random example data:"
   ]
  },
  {
   "cell_type": "code",
   "execution_count": 12,
   "metadata": {},
   "outputs": [
    {
     "data": {
      "text/plain": [
       "Text(0.5, 1.0, 'Random samples from normal distribution')"
      ]
     },
     "execution_count": 12,
     "metadata": {},
     "output_type": "execute_result"
    },
    {
     "data": {
      "image/png": "[encoded data removed]",
      "text/plain": [
       "<Figure size 432x288 with 1 Axes>"
      ]
     },
     "metadata": {
      "needs_background": "light"
     },
     "output_type": "display_data"
    }
   ],
   "source": [
    "# test with a longer vector:\n",
    "n_samples = 1000 # define number of samples\n",
    "# generate linearly spaced samples between 0 and 10:\n",
    "x_long = np.linspace(0,10,n_samples) \n",
    "# draw random values from standard normal distribution (zero mean):\n",
    "y_long = np.random.randn(n_samples)\n",
    "# and we create a plot to visualise our samples:\n",
    "plt.plot(x_long,y_long, '.')\n",
    "plt.xlabel('x')\n",
    "plt.ylabel('y')\n",
    "plt.title('Random samples from normal distribution')"
   ]
  },
  {
   "cell_type": "markdown",
   "metadata": {
    "deletable": false,
    "editable": false,
    "nbgrader": {
     "cell_type": "markdown",
     "checksum": "7d1930bbf630cb954725f053e9804af1",
     "grade": false,
     "grade_id": "cell-dd64e07a89f08504",
     "locked": true,
     "schema_version": 3,
     "solution": false
    }
   },
   "source": [
    "<font color= #21618c>\n",
    "    \n",
    "### **Your task (1 pt)**: \n",
    "**Evaluate execution time for the two functions (now using `x_long` and `y_long`) as before and discuss the results:**"
   ]
  },
  {
   "cell_type": "code",
   "execution_count": 13,
   "metadata": {},
   "outputs": [
    {
     "name": "stdout",
     "output_type": "stream",
     "text": [
      "27.5 µs ± 3.35 µs per loop (mean ± std. dev. of 7 runs, 10000 loops each)\n"
     ]
    }
   ],
   "source": [
    "%%timeit\n",
    "# YOUR CODE HERE\n",
    "x_long = np.linspace(0,10,n_samples)"
   ]
  },
  {
   "cell_type": "code",
   "execution_count": 14,
   "metadata": {},
   "outputs": [
    {
     "name": "stdout",
     "output_type": "stream",
     "text": [
      "986 ns ± 58.8 ns per loop (mean ± std. dev. of 7 runs, 1000000 loops each)\n"
     ]
    }
   ],
   "source": [
    "%%timeit\n",
    "# YOUR CODE HERE\n",
    "y_long = np.random.randn(10)"
   ]
  },
  {
   "cell_type": "markdown",
   "metadata": {
    "deletable": false,
    "nbgrader": {
     "cell_type": "markdown",
     "checksum": "a837717e0113a91ac2648cc3410d185e",
     "grade": true,
     "grade_id": "cell-7d86d1a0e60d96d6",
     "locked": false,
     "points": 1,
     "schema_version": 3,
     "solution": true
    }
   },
   "source": [
    "YOUR ANSWER HERE\n",
    "\n",
    "    \"y_long\" performs much faster than the \"x_long.\" It might be related to the \"linspace\" that need to consider the desired range (0-10) first, then call all the numbers in correct numerical order, with the fixed gradual increment or related to the resolution of sampling (which in this case need 1000 sampling between 0 - 10). In other cases, the \"random.randn\" only call 10 samples number from a standard normal distribution which can be any value and, at least, not have to be in a correct numerical order."
   ]
  },
  {
   "cell_type": "markdown",
   "metadata": {
    "deletable": false,
    "editable": false,
    "nbgrader": {
     "cell_type": "markdown",
     "checksum": "71c182c7116e97aeec3d1f0b95d9853c",
     "grade": false,
     "grade_id": "cell-f1825bcfb0342031",
     "locked": true,
     "schema_version": 3,
     "solution": false
    }
   },
   "source": [
    "## Task 2: Linear interpolation with Lagrange interpolation\n",
    "\n",
    "### Part A: Linear interpolation with two given points\n",
    "\n",
    "We discussed the formulation of Lagrange interpolating polynomials during the lecture. A big advantage of these polynomials is that the computational implementation is very straight-forward.\n",
    "\n",
    "As usual we want to obtain an estimate for an unknown value $f(x)$ at position $x$ from observations $x_i$ with a linear combination:\n",
    "\n",
    "$$f_n(x) = \\sum_{i=0}^n L_i(x), f(x_i) \\mbox{ ,}$$\n",
    "\n",
    "where $L_i$ are the weights:\n",
    "\n",
    "$$L_i(x) =  \\prod_{j = 0, j \\ne i}^n \\frac{x - x_j}{x_i - x_j}$$\n",
    "\n",
    "The first-order linear interpolation is obtained if we set $n = 1$ as:\n",
    "\n",
    "$$f_1(x) = \\frac{x - x_1}{x_0 - x_1} f(x_0) + \\frac{x - x_0}{x_1 - x_0} f(x_1)$$\n",
    "\n",
    "<font color= #21618c>\n",
    "    \n",
    "### **Your task (3 pts)**: \n",
    "**Complete the function below to approximate the value at a position x given two known values  $f(x_0)$ and $f(x_1)$:**\n",
    "<font>"
   ]
  },
  {
   "cell_type": "code",
   "execution_count": 15,
   "metadata": {
    "deletable": false,
    "nbgrader": {
     "cell_type": "code",
     "checksum": "8f01743e090b4f76222a8e5720114cda",
     "grade": false,
     "grade_id": "cell-0982b55d433fcac8",
     "locked": false,
     "schema_version": 3,
     "solution": true
    }
   },
   "outputs": [],
   "source": [
    "def linear_interp(x_0, x_1, f_x_0, f_x_1, x):\n",
    "    \"\"\"Approximate the value at position x using linear interpolation\n",
    "    \n",
    "    **Arguments**:\n",
    "        x_0 : position of first point\n",
    "        f_x_0 : value at first point\n",
    "        x_1 : position of second point\n",
    "        f_x_1 : value at second point\n",
    "        x : position of value to be approximated\n",
    "    **Returns**:\n",
    "        f_x : approximated value\n",
    "    \"\"\"\n",
    "    # YOUR CODE HERE\n",
    "    f_x = (((x - x_1)/(x_0 - x_1))*(f_x_0)) + (((x - x_0)/(x_1 - x_0))*(f_x_1))\n",
    "    \n",
    "    return f_x"
   ]
  },
  {
   "cell_type": "code",
   "execution_count": 16,
   "metadata": {
    "deletable": false,
    "editable": false,
    "nbgrader": {
     "cell_type": "code",
     "checksum": "c1f1e755a47998cf9b2d1bd8356d5f59",
     "grade": true,
     "grade_id": "cell-ca70e026b732c5bd",
     "locked": true,
     "points": 3,
     "schema_version": 3,
     "solution": false
    }
   },
   "outputs": [],
   "source": [
    "# Cell used for autograding. DO NOT EDIT!"
   ]
  },
  {
   "cell_type": "markdown",
   "metadata": {
    "deletable": false,
    "editable": false,
    "nbgrader": {
     "cell_type": "markdown",
     "checksum": "b9cea8e1c31d5861f781aab680077ffb",
     "grade": false,
     "grade_id": "cell-3a167f150dee438f",
     "locked": true,
     "schema_version": 3,
     "solution": false
    }
   },
   "source": [
    "Test your implementation for a couple of values where you know the expected results:"
   ]
  },
  {
   "cell_type": "code",
   "execution_count": 17,
   "metadata": {},
   "outputs": [
    {
     "name": "stdout",
     "output_type": "stream",
     "text": [
      "0.5\n"
     ]
    }
   ],
   "source": [
    "# To test your code, try some examples:\n",
    "print(linear_interp(0,1,0,1,0.5))"
   ]
  },
  {
   "cell_type": "markdown",
   "metadata": {
    "deletable": false,
    "editable": false,
    "nbgrader": {
     "cell_type": "markdown",
     "checksum": "9f8203da2ddbe387182a086d5e4b2abc",
     "grade": false,
     "grade_id": "cell-297f110f01c0ec5a",
     "locked": true,
     "schema_version": 3,
     "solution": false
    }
   },
   "source": [
    "### Part B: Piecewise linear interpolation with arbitrary number of given points\n",
    "\n",
    "Now that we have this function, we can use it to perform **piecewise linear interpolation** between a set of points. We now consider a set of points $x_0, x_1$ ... $x_n$. If we want to obtain the approximate value for a point $x$ in between these points, we have to perform the following steps:\n",
    "\n",
    "1. Check if the point is within our point range ($x_0 \\le x \\le x_n$), if not: do not perform interpolation (Because it would be extrapolation)\n",
    "\n",
    "2. Determine between which two points of our set point $x$ is located. \n",
    "\n",
    "3. Perform the interpolation in the appropriate interval (Use your `linear_interp()` function for this).\n",
    "\n",
    "<font color=#ba4a00 >\n",
    "    \n",
    "**Hint:** You will need a nested structure of conditional and iterative control flow elements, as well as array indexing functionality, to perform this task. \n",
    "<font>\n",
    "    \n",
    "<font color= #21618c>\n",
    "    \n",
    "### **Your task (5 pts)**:\n",
    "**Complete the function below to perform the piecewise linear interpolation for an arbitrary number of points (with values passed as Python lists or numpy arrays).**\n",
    "\n",
    "<font>"
   ]
  },
  {
   "cell_type": "code",
   "execution_count": 18,
   "metadata": {
    "deletable": false,
    "nbgrader": {
     "cell_type": "code",
     "checksum": "1e01ec8b57fd5edd7ab33d006f66c3ee",
     "grade": false,
     "grade_id": "cell-3eb08fc9b0dc7d1f",
     "locked": false,
     "schema_version": 3,
     "solution": true
    }
   },
   "outputs": [],
   "source": [
    "def linear_interp_arbitrary_points(p, f_p, x):\n",
    "    \"\"\"Approximate the value at position x using piecewiese linear interpolation\n",
    "    \n",
    "    **Arguments**:\n",
    "        p : list or numpy array with positions of points\n",
    "        f_p : list or numpy array with values of points\n",
    "        x : position of value to be approximated\n",
    "    \n",
    "    **Returns**:\n",
    "        f_x : approximated value\n",
    "    \"\"\"\n",
    "    # YOUR CODE HERE\n",
    "    f_x=[]\n",
    "    for i in range(1,(len(p))):\n",
    "        for j in x:\n",
    "            if j > p[i-1] and j < p[i]: #to fulfill the 1st and 2nd condition\n",
    "                f_x.append(linear_interp(p[i-1], p[i], f_p[i-1], f_p[i], j))\n",
    "            elif j == p[i-1]: #to anticipate a condition where the x_unknown giving us a 'x' number that same with the x_known\n",
    "                f_x.append(f_p[i-1])\n",
    "            else:\n",
    "                continue\n",
    "    return f_x"
   ]
  },
  {
   "cell_type": "code",
   "execution_count": 19,
   "metadata": {
    "deletable": false,
    "editable": false,
    "nbgrader": {
     "cell_type": "code",
     "checksum": "e8a190b567bb028fddae56c05ed41e47",
     "grade": true,
     "grade_id": "cell-9d7e721969f750c3",
     "locked": true,
     "points": 3,
     "schema_version": 3,
     "solution": false
    }
   },
   "outputs": [],
   "source": [
    "# Cell used for autograding. DO NOT EDIT!"
   ]
  },
  {
   "cell_type": "markdown",
   "metadata": {
    "deletable": false,
    "editable": false,
    "nbgrader": {
     "cell_type": "markdown",
     "checksum": "26d09dfaf0575d94cab27ed95dec691c",
     "grade": false,
     "grade_id": "cell-f266eb8dc2d266e8",
     "locked": true,
     "schema_version": 3,
     "solution": false,
     "task": false
    }
   },
   "source": [
    "### Part C: Plotting the results\n",
    "\n",
    "<font color= #21618c>\n",
    "    \n",
    "### **Your task (3 pts)**:\n",
    "**Given a set of known input points (`x_known` and `y_known`) and a set of positions (`x_unknown`), use a `for-loop` to estimate a value for each unknown location using our function from Part B (piecewise linear interpolation for arbitrary number of points) and plot the results (the orginal input points as well as the estimated results for the unknown locations.**\n",
    "</font>\n",
    "    \n",
    "As always when creating a plot, remember adding labels, title and a legend.\n"
   ]
  },
  {
   "cell_type": "code",
   "execution_count": 20,
   "metadata": {
    "deletable": false,
    "nbgrader": {
     "cell_type": "code",
     "checksum": "a885b8aa195052727b59b0d446172397",
     "grade": true,
     "grade_id": "cell-5a6526b53c68d7ca",
     "locked": false,
     "points": 3,
     "schema_version": 3,
     "solution": true
    }
   },
   "outputs": [
    {
     "data": {
      "text/plain": [
       "<matplotlib.legend.Legend at 0x2203d2fb700>"
      ]
     },
     "execution_count": 20,
     "metadata": {},
     "output_type": "execute_result"
    },
    {
     "data": {
      "image/png": "[encoded data removed]",
      "text/plain": [
       "<Figure size 720x360 with 1 Axes>"
      ]
     },
     "metadata": {
      "needs_background": "light"
     },
     "output_type": "display_data"
    }
   ],
   "source": [
    "# Plotting\n",
    "# known input points\n",
    "x_known = np.arange(0,20,4)\n",
    "y_known = np.random.randint(0,10,size=len(x_known))\n",
    "\n",
    "# unknown locations to estimate\n",
    "x_unknown = np.sort(np.random.randint(1,16,size=10))\n",
    "\n",
    "# YOUR CODE HERE\n",
    "# Call the Linear Interpolation Function\n",
    "y_new = linear_interp_arbitrary_points(x_known, y_known, x_unknown) \n",
    "\n",
    "# Create the list of Pair (x,y)\n",
    "xy_known=[]\n",
    "for m in range(len(x_known)):\n",
    "    xy_known.append(list((x_known[m],y_known[m])))\n",
    "\n",
    "xy_new=[]\n",
    "for n in range(len(x_unknown)):\n",
    "    xy_new.append(list((x_unknown[n],y_new[n])))\n",
    "\n",
    "# combine the list of Pairs between the (x,y) data of known data and new data\n",
    "xy_comb = xy_known + xy_new\n",
    "\n",
    "# Sorting a List of pairs (x,y) in term of (x) data only\n",
    "def getKey(item):\n",
    "    return item[0]\n",
    "\n",
    "sort_xy_comb = sorted(xy_comb, key=getKey)\n",
    "\n",
    "# Unpack (x,y) pairs data from the list (to create list of x and list of y in a correct order)\n",
    "x_ready,y_ready = zip(*sort_xy_comb)\n",
    "\n",
    "# Plotting\n",
    "fig, axs = plt.subplots(figsize = (10,5))\n",
    "\n",
    "#Scatter Plot\n",
    "axs.scatter(x_known, y_known,s = 60, c='red',label ='Known Data')\n",
    "axs.scatter(x_unknown, y_new,s =30 , c='black',label ='Approximated Data')\n",
    "\n",
    "#Line Plot\n",
    "axs.plot(x_ready, y_ready,\"*--k\", c='yellow',label ='Interpolation Line')\n",
    "\n",
    "#Graph Format\n",
    "axs.set_xlabel('x')\n",
    "axs.set_ylabel('y')\n",
    "axs.set_title('Linear Interpolation from Arbitary Points')\n",
    "axs.legend()"
   ]
  },
  {
   "cell_type": "markdown",
   "metadata": {
    "deletable": false,
    "editable": false,
    "nbgrader": {
     "cell_type": "markdown",
     "checksum": "410b682c881586f8925c9e0d59ebcae4",
     "grade": false,
     "grade_id": "cell-f7446c6b25e73fcd",
     "locked": true,
     "schema_version": 3,
     "solution": false,
     "task": false
    }
   },
   "source": [
    "### Part D: Explanation loop\n",
    "\n",
    "<font color= #21618c>\n",
    "    \n",
    "### **Your task (1 pts)**:\n",
    "**Based on the implementation above, why do we need a `for-loop` for plotting (Part C). Briefly discuss in your own words.**\n",
    "</font>\n",
    "   \n"
   ]
  },
  {
   "cell_type": "code",
   "execution_count": null,
   "metadata": {},
   "outputs": [],
   "source": []
  },
  {
   "cell_type": "markdown",
   "metadata": {
    "deletable": false,
    "nbgrader": {
     "cell_type": "markdown",
     "checksum": "68fac70574c1111fe8fa527bc22c17ba",
     "grade": true,
     "grade_id": "cell-ea7a61b1b183cac3",
     "locked": false,
     "points": 1,
     "schema_version": 3,
     "solution": true,
     "task": false
    }
   },
   "source": [
    "YOUR ANSWER HERE\n",
    "\n",
    "    In my case, to make a structured x-y plot among the known and the approximated data, first I used the for-loop to create the pair-list of all defined (x,y) from the: (x_known, y_known) and (x_unknown, y_new {y after the linear interpolation}). This algorithm needs to be conducted because the y_new is only created as a separated list (not linked into the x_unknown values). It will be a messed plot if we just directly plot all defined (x,y) data right after the y_new produced (because we have to link first between the data of x_known - y_known and x_unknown - y_new, then create a good order of it, to make a good plot). \n",
    "    \n",
    "    After that, I combined the pair list of (x,y) between known data and unknown data. After combining the pair-list, I have to sort the pair list with the correct order of x number (from small to big number) to create a well-structured (x,y) distribution data. \n",
    "    \n",
    "    In the data plotting using matplotlib, as long as I know, we need a separated list of x and y data to plot. Therefore, I used the unpacking data algorithm to the sorted pair-list, and produced the list of x and the list of y data with a correct order among known and unknown data respectively (which I called the x_ready and Y_ready). Then I plot the data as scatter and line plot of x and y data.    "
   ]
  },
  {
   "cell_type": "code",
   "execution_count": null,
   "metadata": {},
   "outputs": [],
   "source": []
  }
 ],
 "metadata": {
  "kernelspec": {
   "display_name": "Python 3",
   "language": "python",
   "name": "python3"
  },
  "language_info": {
   "codemirror_mode": {
    "name": "ipython",
    "version": 3
   },
   "file_extension": ".py",
   "mimetype": "text/x-python",
   "name": "python",
   "nbconvert_exporter": "python",
   "pygments_lexer": "ipython3",
   "version": "3.8.3"
  }
 },
 "nbformat": 4,
 "nbformat_minor": 2
}
